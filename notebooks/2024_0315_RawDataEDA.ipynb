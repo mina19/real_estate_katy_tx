{
 "cells": [
  {
   "cell_type": "code",
   "execution_count": null,
   "id": "7c2313a9-c3c2-4181-8f98-bfbdebc51cc8",
   "metadata": {},
   "outputs": [],
   "source": [
    "%matplotlib inline\n",
    "%reload_ext autoreload\n",
    "%autoreload 2"
   ]
  },
  {
   "cell_type": "markdown",
   "id": "96616325-3bf4-4cc3-aaed-3caf3dcfbab8",
   "metadata": {},
   "source": [
    "# Exploring Real Estate Market in Katy, TX"
   ]
  },
  {
   "cell_type": "markdown",
   "id": "0419dc3f-0d90-4b72-ab37-762de77938fc",
   "metadata": {},
   "source": [
    "## Join raw datasets pulled in from Redfin\n",
    "\n",
    "This dataset is about homes sold in Katy, TX for the past year."
   ]
  },
  {
   "cell_type": "code",
   "execution_count": null,
   "id": "0c50d533-5bf1-4c0d-b229-3484db746206",
   "metadata": {},
   "outputs": [],
   "source": [
    "import sys\n",
    "\n",
    "sys.path.append(\"../src\")"
   ]
  },
  {
   "cell_type": "code",
   "execution_count": null,
   "id": "b5fd81c4-5a65-470c-b3fa-cb0066e0b6f1",
   "metadata": {},
   "outputs": [],
   "source": [
    "import matplotlib.pyplot as plt\n",
    "import pandas as pd\n",
    "\n",
    "from data.create_raw_dataset import raw_filenames, raw_data, prepare_df"
   ]
  },
  {
   "cell_type": "code",
   "execution_count": null,
   "id": "3feb7c8c-e79f-4660-a6b6-6499e3fdef44",
   "metadata": {},
   "outputs": [],
   "source": [
    "# prep raw data for EDA\n",
    "raw_data_filenames = raw_filenames()\n",
    "raw_df = raw_data(raw_data_filenames)\n",
    "raw_df = prepare_df(raw_df)"
   ]
  },
  {
   "cell_type": "code",
   "execution_count": null,
   "id": "8ebe56d1-b29a-4dc6-b40d-3f3f3ad9047e",
   "metadata": {},
   "outputs": [],
   "source": [
    "raw_df"
   ]
  },
  {
   "cell_type": "markdown",
   "id": "4ba293aa-a6ef-4cec-9adf-70f31376e599",
   "metadata": {},
   "source": [
    "## Frequency tables for each categorical feature"
   ]
  },
  {
   "cell_type": "code",
   "execution_count": null,
   "id": "78203dd7-1e46-4724-b4b5-83fe07598ddb",
   "metadata": {},
   "outputs": [],
   "source": [
    "for column in [\"zip_code\", \"location\"]:\n",
    "    display(pd.crosstab(index=raw_df[column], columns=\"% observations\", normalize=\"columns\"))"
   ]
  },
  {
   "cell_type": "markdown",
   "id": "2345b687-bb2d-4c8e-89c5-d7e44c3fa361",
   "metadata": {},
   "source": [
    "## Histogram for each numeric feature"
   ]
  },
  {
   "cell_type": "code",
   "execution_count": null,
   "id": "ca57a7e6-6f5d-40d6-bcfd-bb5381e0b6f0",
   "metadata": {},
   "outputs": [],
   "source": [
    "raw_df.describe()"
   ]
  },
  {
   "cell_type": "code",
   "execution_count": null,
   "id": "e6af964e-1aa6-42e3-941d-6a96035ad6fc",
   "metadata": {},
   "outputs": [],
   "source": [
    "hist = raw_df.hist(\n",
    "    bins=30, sharey=False, figsize=(12, 12)\n",
    ")"
   ]
  },
  {
   "cell_type": "markdown",
   "id": "401e1cd7-6406-4c51-9bfa-8ad1e56b1204",
   "metadata": {},
   "source": [
    "## Raw correlations"
   ]
  },
  {
   "cell_type": "code",
   "execution_count": null,
   "id": "16daddc2-1dca-42a2-8626-729374945a49",
   "metadata": {},
   "outputs": [],
   "source": [
    "raw_df.corr(numeric_only=True)"
   ]
  },
  {
   "cell_type": "code",
   "execution_count": null,
   "id": "f16b66e5-0771-4b20-9e8e-f1fac739b4ed",
   "metadata": {},
   "outputs": [],
   "source": [
    "pd.plotting.scatter_matrix(\n",
    "    raw_df[[\"price\", \"beds\", \"baths\", \"square_feet\", \"lot_size\", \"year_built\", \"hoa_per_month\"]],\n",
    "    figsize=(15, 15)\n",
    ")\n",
    "plt.show()"
   ]
  },
  {
   "cell_type": "markdown",
   "id": "2bd8a944-48ae-443d-9f25-262d6af6ad18",
   "metadata": {},
   "source": [
    "## Save raw data to interim directory"
   ]
  },
  {
   "cell_type": "code",
   "execution_count": null,
   "id": "c0f408c1-dc83-4171-bd5a-d2563d5246f8",
   "metadata": {},
   "outputs": [],
   "source": [
    "import joblib\n",
    "\n",
    "joblib.dump(raw_df, \"../data/interim/preprocessed_data.df\")"
   ]
  },
  {
   "cell_type": "code",
   "execution_count": null,
   "id": "cf1a7f05-7b4a-4787-a93e-bc2751880fd4",
   "metadata": {},
   "outputs": [],
   "source": []
  }
 ],
 "metadata": {
  "kernelspec": {
   "display_name": "Python 3 (ipykernel)",
   "language": "python",
   "name": "python3"
  },
  "language_info": {
   "codemirror_mode": {
    "name": "ipython",
    "version": 3
   },
   "file_extension": ".py",
   "mimetype": "text/x-python",
   "name": "python",
   "nbconvert_exporter": "python",
   "pygments_lexer": "ipython3",
   "version": "3.9.2"
  }
 },
 "nbformat": 4,
 "nbformat_minor": 5
}
